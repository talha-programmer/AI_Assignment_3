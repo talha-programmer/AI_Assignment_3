{
 "cells": [
  {
   "cell_type": "markdown",
   "metadata": {},
   "source": [
    "# Roll Number: 66639\n",
    "# Class Time: 9 to 12\n",
    "# Name: M. Talha\n",
    "## Assignment 1"
   ]
  },
  {
   "cell_type": "raw",
   "metadata": {},
   "source": [
    "1. Calculate Area of a Circle\n",
    "Write a Python program which accepts the radius of a circle from the user and compute the area."
   ]
  },
  {
   "cell_type": "code",
   "execution_count": 7,
   "metadata": {},
   "outputs": [
    {
     "name": "stdout",
     "output_type": "stream",
     "text": [
      "Enter Radius of Circle: 0.5\n",
      "Area of Circle with radius 0.5 is: 0.7853981633974483\n"
     ]
    }
   ],
   "source": [
    "import math\n",
    "radius = float(input(\"Enter Radius of Circle: \"))\n",
    "print(f\"Area of Circle with radius {radius} is: {math.pi *radius**2}\")"
   ]
  },
  {
   "cell_type": "code",
   "execution_count": null,
   "metadata": {},
   "outputs": [],
   "source": []
  },
  {
   "cell_type": "raw",
   "metadata": {},
   "source": [
    "2. Check Number either positive, negative or zero\n",
    "Write a Python program to check if a number is positive, negative or zero"
   ]
  },
  {
   "cell_type": "code",
   "execution_count": 2,
   "metadata": {},
   "outputs": [
    {
     "name": "stdout",
     "output_type": "stream",
     "text": [
      "Enter Integer: -2\n",
      "The number -2 is negative!\n"
     ]
    }
   ],
   "source": [
    "num = int(input(\"Enter Integer: \"))\n",
    "if num > 0:\n",
    "    print(f\"The number {num} is positive!\")\n",
    "elif num < 0:\n",
    "    print(f\"The number {num} is negative!\")\n",
    "elif num == 0:\n",
    "    print(f\"The number {num} is zero!\")"
   ]
  },
  {
   "cell_type": "code",
   "execution_count": null,
   "metadata": {},
   "outputs": [],
   "source": []
  },
  {
   "cell_type": "raw",
   "metadata": {},
   "source": [
    "3. Divisibility Check of two numbers\n",
    "Write a Python program to check whether a number is completely divisible by another number. Accept two integer\n",
    "values form the user"
   ]
  },
  {
   "cell_type": "code",
   "execution_count": 5,
   "metadata": {},
   "outputs": [
    {
     "name": "stdout",
     "output_type": "stream",
     "text": [
      "Enter Numerator: 7\n",
      "Enter Denominator: 4\n",
      "Number 7 is not completely divisible by 4\n"
     ]
    }
   ],
   "source": [
    "numerator = int(input(\"Enter Numerator: \"))\n",
    "denominator = int(input(\"Enter Denominator: \"))\n",
    "if numerator % denominator ==0:\n",
    "    print(f\"Number {numerator} is completely divisible by {denominator}\")\n",
    "else:\n",
    "    print(f\"Number {numerator} is not completely divisible by {denominator}\")"
   ]
  },
  {
   "cell_type": "code",
   "execution_count": null,
   "metadata": {},
   "outputs": [],
   "source": []
  },
  {
   "cell_type": "raw",
   "metadata": {},
   "source": [
    "4. Days Calculator\n",
    "Write a Python program to calculate number of days between two dates"
   ]
  },
  {
   "cell_type": "code",
   "execution_count": 6,
   "metadata": {},
   "outputs": [
    {
     "name": "stdout",
     "output_type": "stream",
     "text": [
      "Enter a date in (dd/mm/yyyy) format: 12/1/2020\n",
      "Enter a date in (dd/mm/yyyy) format: 2/2/2020\n",
      "Days Between: 21\n"
     ]
    }
   ],
   "source": [
    "from datetime import datetime\n",
    "date1 = input(\"Enter a date in (dd/mm/yyyy) format: \")\n",
    "date2 = input(\"Enter a date in (dd/mm/yyyy) format: \")\n",
    "date1 = datetime.strptime(date1, \"%d/%m/%Y\")\n",
    "date2 = datetime.strptime(date2, \"%d/%m/%Y\")\n",
    "print(\"Days Between: \"+ str(abs(date2-date1).days))"
   ]
  },
  {
   "cell_type": "code",
   "execution_count": null,
   "metadata": {},
   "outputs": [],
   "source": []
  },
  {
   "cell_type": "raw",
   "metadata": {},
   "source": [
    "5. Calculate Volume of a sphere\n",
    "Write a Python program to get the volume of a sphere, please take the radius as input from user"
   ]
  },
  {
   "cell_type": "code",
   "execution_count": 8,
   "metadata": {},
   "outputs": [
    {
     "name": "stdout",
     "output_type": "stream",
     "text": [
      "Enter Radius of Sphere: 1\n",
      "Volume of Sphere: 4.1887902047863905\n"
     ]
    }
   ],
   "source": [
    "radius = float(input(\"Enter Radius of Sphere: \"))\n",
    "print(f\"Volume of Sphere: {4/3 * math.pi * radius**3}\")"
   ]
  },
  {
   "cell_type": "code",
   "execution_count": null,
   "metadata": {},
   "outputs": [],
   "source": []
  },
  {
   "cell_type": "raw",
   "metadata": {},
   "source": [
    "6. Copy string n times\n",
    "Write a Python program to get a string which is n (non-negative integer) copies of a given string."
   ]
  },
  {
   "cell_type": "code",
   "execution_count": 9,
   "metadata": {},
   "outputs": [
    {
     "name": "stdout",
     "output_type": "stream",
     "text": [
      "Enter String: Hello\n",
      "How many copies you need? 5\n",
      "5 copies of Hello are: HelloHelloHelloHelloHello\n"
     ]
    }
   ],
   "source": [
    "string = input(\"Enter String: \")\n",
    "num = int(input(\"How many copies you need? \"))\n",
    "print(f\"{num} copies of {string} are: {num*string}\")"
   ]
  },
  {
   "cell_type": "code",
   "execution_count": null,
   "metadata": {},
   "outputs": [],
   "source": []
  },
  {
   "cell_type": "raw",
   "metadata": {},
   "source": [
    "7. Check if number is Even or Odd\n",
    "Write a Python program to find whether a given number (accept from the user) is even or odd, print out an\n",
    "appropriate message to the user"
   ]
  },
  {
   "cell_type": "code",
   "execution_count": 31,
   "metadata": {},
   "outputs": [
    {
     "name": "stdout",
     "output_type": "stream",
     "text": [
      "Enter a Number: 5\n",
      "5 is odd number\n"
     ]
    }
   ],
   "source": [
    "number = int(input(\"Enter a Number: \"))\n",
    "if number % 2 == 0:\n",
    "    print(f\"{number} is even number\")\n",
    "else:\n",
    "    print(f\"{number} is odd number\")"
   ]
  },
  {
   "cell_type": "code",
   "execution_count": null,
   "metadata": {},
   "outputs": [],
   "source": []
  },
  {
   "cell_type": "raw",
   "metadata": {},
   "source": [
    "8. Vowel Tester\n",
    "Write a Python program to test whether a passed letter is a vowel or not"
   ]
  },
  {
   "cell_type": "code",
   "execution_count": 12,
   "metadata": {},
   "outputs": [
    {
     "name": "stdout",
     "output_type": "stream",
     "text": [
      "Enter a Character: b\n",
      "The Character 'b' is not Vowel\n"
     ]
    }
   ],
   "source": [
    "character = input(\"Enter a Character: \")\n",
    "if character == 'A' or character == 'a' or character == 'E' or character == 'e' or \\\n",
    "    character == 'I' or character == 'i' or character == 'O' or character == 'o' or \\\n",
    "    character == 'U' or character == 'u':\n",
    "    print(f\"The Character '{character}' is Vowel\")\n",
    "else:\n",
    "    print(f\"The Character '{character}' is not Vowel\")"
   ]
  },
  {
   "cell_type": "code",
   "execution_count": null,
   "metadata": {},
   "outputs": [],
   "source": []
  },
  {
   "cell_type": "raw",
   "metadata": {},
   "source": [
    "9. Triangle area\n",
    "Write a Python program that will accept the base and height of a triangle and compute the area"
   ]
  },
  {
   "cell_type": "code",
   "execution_count": 13,
   "metadata": {},
   "outputs": [
    {
     "name": "stdout",
     "output_type": "stream",
     "text": [
      "Enter Base of Triangle: 14\n",
      "Enter Height of Triangle: 8.5\n",
      "Area of Triangle with base 14.0 and height 8.5 is 59.5\n"
     ]
    }
   ],
   "source": [
    "base = float(input(\"Enter Base of Triangle: \"))\n",
    "height = float(input(\"Enter Height of Triangle: \"))\n",
    "print(f\"Area of Triangle with base {base} and height {height} is {0.5*base*height}\")"
   ]
  },
  {
   "cell_type": "code",
   "execution_count": null,
   "metadata": {},
   "outputs": [],
   "source": []
  },
  {
   "cell_type": "raw",
   "metadata": {},
   "source": [
    "10. Calculate Interest\n",
    "Write a Python program to compute the future value of a specified principal amount, rate of interest, and a number\n",
    "of years"
   ]
  },
  {
   "cell_type": "code",
   "execution_count": 14,
   "metadata": {},
   "outputs": [
    {
     "name": "stdout",
     "output_type": "stream",
     "text": [
      "Enter Principal Amount: 10000\n",
      "Enter Rate of Interest: 0.1\n",
      "Enter Number of Years: 5\n",
      "After 5 years, your amount 10000.0 with interest rate 0.1 becomes: 16105.1\n"
     ]
    }
   ],
   "source": [
    "principalAmount = float(input(\"Enter Principal Amount: \"))\n",
    "rate = float(input(\"Enter Rate of Interest: \"))\n",
    "years = int(input(\"Enter Number of Years: \"))\n",
    "finalAmount = principalAmount\n",
    "for i in range(years):\n",
    "    finalAmount += rate * finalAmount\n",
    "print(f\"After {years} years, your amount {principalAmount} with interest rate {rate} becomes: {finalAmount}\")"
   ]
  },
  {
   "cell_type": "code",
   "execution_count": null,
   "metadata": {},
   "outputs": [],
   "source": []
  },
  {
   "cell_type": "raw",
   "metadata": {},
   "source": [
    "11. Euclidean distance\n",
    "Write a Python program to compute the distance between the points (x1, y1) and (x2, y2)."
   ]
  },
  {
   "cell_type": "code",
   "execution_count": 16,
   "metadata": {},
   "outputs": [
    {
     "name": "stdout",
     "output_type": "stream",
     "text": [
      "Enter Co-ordinate of X1: 2\n",
      "Enter Co-ordinate of X2: 4\n",
      "Enter Co-ordinate of Y1: 4\n",
      "Enter Co-ordinate of Y2: 4\n",
      "Distance between points (2,4) and (4,4) is : 2.0\n"
     ]
    }
   ],
   "source": [
    "x1 = int(input(\"Enter Co-ordinate of X1: \"))\n",
    "x2 = int(input(\"Enter Co-ordinate of X2: \"))\n",
    "y1 = int(input(\"Enter Co-ordinate of Y1: \"))\n",
    "y2 = int(input(\"Enter Co-ordinate of Y2: \"))\n",
    "print(f\"Distance between points ({x1},{y1}) and ({x2},{y2}) is : {math.sqrt((x1-y1)**2 + (x2-y2)**2)}\")"
   ]
  },
  {
   "cell_type": "code",
   "execution_count": null,
   "metadata": {},
   "outputs": [],
   "source": []
  },
  {
   "cell_type": "raw",
   "metadata": {},
   "source": [
    "12. Feet to Centimeter Converter\n",
    "Write a Python program to convert height in feet to centimetres."
   ]
  },
  {
   "cell_type": "code",
   "execution_count": 17,
   "metadata": {},
   "outputs": [
    {
     "name": "stdout",
     "output_type": "stream",
     "text": [
      "Enter length in feet: 5\n",
      "There are 152.4cm in 5.0ft\n"
     ]
    }
   ],
   "source": [
    "ft = float(input(\"Enter length in feet: \"))\n",
    "print(f\"There are {30.48*ft}cm in {ft}ft\")"
   ]
  },
  {
   "cell_type": "code",
   "execution_count": null,
   "metadata": {},
   "outputs": [],
   "source": []
  },
  {
   "cell_type": "raw",
   "metadata": {},
   "source": [
    "13. BMI Calculator\n",
    "Write a Python program to calculate body mass index"
   ]
  },
  {
   "cell_type": "code",
   "execution_count": 18,
   "metadata": {},
   "outputs": [
    {
     "name": "stdout",
     "output_type": "stream",
     "text": [
      "Enter Height in cm: 180\n",
      "Enter Weight in kg: 75\n",
      "Your BMI is: 23.148148148148145\n"
     ]
    }
   ],
   "source": [
    "height = float(input(\"Enter Height in cm: \"))\n",
    "weight = float(input(\"Enter Weight in kg: \"))\n",
    "print(f\"Your BMI is: {weight/(height/100)**2}\")"
   ]
  },
  {
   "cell_type": "code",
   "execution_count": null,
   "metadata": {},
   "outputs": [],
   "source": []
  },
  {
   "cell_type": "raw",
   "metadata": {},
   "source": [
    "14. Sum of n Positive Integers\n",
    "Write a python program to sum of the first n positive integers"
   ]
  },
  {
   "cell_type": "code",
   "execution_count": 19,
   "metadata": {},
   "outputs": [
    {
     "name": "stdout",
     "output_type": "stream",
     "text": [
      "Enter Integer: 5\n",
      "Sum of first 5 positive integers is: 15\n"
     ]
    }
   ],
   "source": [
    "number = int(input(\"Enter Integer: \"))\n",
    "sum = 0\n",
    "for i in range(number+1):\n",
    "    sum+=i\n",
    "print(f\"Sum of first {number} positive integers is: {sum}\")"
   ]
  },
  {
   "cell_type": "code",
   "execution_count": null,
   "metadata": {},
   "outputs": [],
   "source": []
  },
  {
   "cell_type": "raw",
   "metadata": {},
   "source": [
    "15. Digits Sum of a Number\n",
    "Write a Python program to calculate the sum of the digits in an integer"
   ]
  },
  {
   "cell_type": "code",
   "execution_count": 20,
   "metadata": {},
   "outputs": [
    {
     "name": "stdout",
     "output_type": "stream",
     "text": [
      "Enter Number: 15\n",
      "Sum of digits of 15 is: 6\n"
     ]
    }
   ],
   "source": [
    "number = input(\"Enter Number: \" )\n",
    "sum = 0\n",
    "for i in number:\n",
    "    sum += int(i)\n",
    "print(f\"Sum of digits of {number} is: {sum}\")"
   ]
  },
  {
   "cell_type": "code",
   "execution_count": null,
   "metadata": {},
   "outputs": [],
   "source": []
  },
  {
   "cell_type": "raw",
   "metadata": {},
   "source": [
    "16. Decimal to Binary Converter\n",
    "Write a Python program to convert an decimal integer to binary"
   ]
  },
  {
   "cell_type": "code",
   "execution_count": 21,
   "metadata": {},
   "outputs": [
    {
     "name": "stdout",
     "output_type": "stream",
     "text": [
      "Enter Number: 5\n",
      "5 in binary format is: 101\n"
     ]
    }
   ],
   "source": [
    "def conversion(num):\n",
    "    global converted\n",
    "    if num > 1:\n",
    "        conversion(num//2)\n",
    "    converted += str(num%2)\n",
    "    return converted\n",
    "\n",
    "number = int(input(\"Enter Number: \"))\n",
    "converted = ''\n",
    "print(f\"{number} in binary format is: {conversion(number)}\")"
   ]
  },
  {
   "cell_type": "code",
   "execution_count": null,
   "metadata": {},
   "outputs": [],
   "source": []
  },
  {
   "cell_type": "raw",
   "metadata": {},
   "source": [
    "17. Binary to Decimal Converter\n",
    "Write a program to convert binary number to Decimal number"
   ]
  },
  {
   "cell_type": "code",
   "execution_count": 22,
   "metadata": {},
   "outputs": [
    {
     "name": "stdout",
     "output_type": "stream",
     "text": [
      "Enter Number in binary: 1101\n",
      "Number in decimal is: 13\n"
     ]
    }
   ],
   "source": [
    "def convertDecimal(num):\n",
    "    converted = 0\n",
    "    length = len(num)-1\n",
    "    for i in num:\n",
    "        converted += int(i) * 2**length\n",
    "        length -=1\n",
    "    return converted\n",
    "number = input(\"Enter Number in binary: \")\n",
    "print(f\"Number in decimal is: {convertDecimal(number)}\")"
   ]
  },
  {
   "cell_type": "code",
   "execution_count": null,
   "metadata": {},
   "outputs": [],
   "source": []
  },
  {
   "cell_type": "raw",
   "metadata": {},
   "source": [
    "18. Vowel and Consonants Counter\n",
    "Input a text and count the occurrences of vowels and consonant"
   ]
  },
  {
   "cell_type": "code",
   "execution_count": 23,
   "metadata": {},
   "outputs": [
    {
     "name": "stdout",
     "output_type": "stream",
     "text": [
      "Enter Text: QuickBrownFoxJumpsovertheDog\n",
      "Vowels: 9\n",
      "Consonants: 19\n"
     ]
    }
   ],
   "source": [
    "text = input(\"Enter Text: \")\n",
    "vowel = 0\n",
    "consonant = 0\n",
    "for character in text:\n",
    "    if character == 'A' or character == 'a' or character == 'E' or character == 'e' or \\\n",
    "        character == 'I' or character == 'i' or character == 'O' or character == 'o' or \\\n",
    "        character == 'U' or character == 'u':\n",
    "        vowel+=1\n",
    "    else:\n",
    "        consonant +=1\n",
    "print(f\"Vowels: {vowel}\")\n",
    "print(f\"Consonants: {consonant}\")\n"
   ]
  },
  {
   "cell_type": "code",
   "execution_count": null,
   "metadata": {},
   "outputs": [],
   "source": []
  },
  {
   "cell_type": "raw",
   "metadata": {},
   "source": [
    "19. Palindrome tester\n",
    "Write a program to check whether given input is palindrome or not"
   ]
  },
  {
   "cell_type": "code",
   "execution_count": 24,
   "metadata": {},
   "outputs": [
    {
     "name": "stdout",
     "output_type": "stream",
     "text": [
      "Enter word: aha\n",
      "aha is palindrome\n"
     ]
    }
   ],
   "source": [
    "word = input(\"Enter word: \").lower()\n",
    "if word == word[::-1]:\n",
    "    print(f\"{word} is palindrome\")\n",
    "else:\n",
    "    print(f\"{word} is not palindrome\")"
   ]
  },
  {
   "cell_type": "code",
   "execution_count": null,
   "metadata": {},
   "outputs": [],
   "source": []
  },
  {
   "cell_type": "raw",
   "metadata": {},
   "source": [
    "20. Count Alphabets, Numbers and Special Characters\n",
    "Write a Python program that accepts a string and calculate the number of digits and letters"
   ]
  },
  {
   "cell_type": "code",
   "execution_count": 25,
   "metadata": {},
   "outputs": [
    {
     "name": "stdout",
     "output_type": "stream",
     "text": [
      "Enter text: Python 3.2\n",
      "Numbers: 2\n",
      "Alphabets: 6\n",
      "Special Characters: 1\n",
      "Spaces: 1\n"
     ]
    }
   ],
   "source": [
    "text = input(\"Enter text: \")\n",
    "numbers = alphabets = chars = spaces = 0\n",
    "for i in text:\n",
    "    if i.isalpha():\n",
    "        alphabets += 1\n",
    "    elif i.isnumeric():\n",
    "        numbers += 1\n",
    "    elif i.isspace():\n",
    "        spaces += 1\n",
    "    else:\n",
    "        chars += 1\n",
    "print(f\"Numbers: {numbers}\", f\"Alphabets: {alphabets}\", sep='\\n')\n",
    "print(f\"Special Characters: {chars}\", f\"Spaces: {spaces}\", sep='\\n')"
   ]
  },
  {
   "cell_type": "code",
   "execution_count": null,
   "metadata": {},
   "outputs": [],
   "source": []
  },
  {
   "cell_type": "raw",
   "metadata": {},
   "source": [
    "21. Write a Python program to construct the following pattern\n",
    "*\n",
    "* *\n",
    "* * *\n",
    "* * * *\n",
    "* * * * *\n",
    "* * * *\n",
    "* * *\n",
    "* *\n",
    "*"
   ]
  },
  {
   "cell_type": "code",
   "execution_count": 27,
   "metadata": {},
   "outputs": [
    {
     "name": "stdout",
     "output_type": "stream",
     "text": [
      "* \n",
      "* * \n",
      "* * * \n",
      "* * * * \n",
      "* * * * * \n",
      "* * * * \n",
      "* * * \n",
      "* * \n",
      "* \n"
     ]
    }
   ],
   "source": [
    "for i in range(1,10):\n",
    "    if i > 5:\n",
    "        print((10-i) * '* ')\n",
    "    else:\n",
    "        print(i * '* ')"
   ]
  },
  {
   "cell_type": "code",
   "execution_count": null,
   "metadata": {},
   "outputs": [],
   "source": []
  },
  {
   "cell_type": "raw",
   "metadata": {},
   "source": [
    "22. Write a Python program to construct the following pattern\n",
    "1\n",
    "1 2\n",
    "1 2 3\n",
    "1 2 3 4\n",
    "1 2 3 4 5\n",
    "1 2 3 4\n",
    "1 2 3\n",
    "1 2\n",
    "1"
   ]
  },
  {
   "cell_type": "code",
   "execution_count": 28,
   "metadata": {},
   "outputs": [
    {
     "name": "stdout",
     "output_type": "stream",
     "text": [
      "1 \n",
      "1 2 \n",
      "1 2 3 \n",
      "1 2 3 4 \n",
      "1 2 3 4 5 \n",
      "1 2 3 4 \n",
      "1 2 3 \n",
      "1 2 \n",
      "1 \n"
     ]
    }
   ],
   "source": [
    "for i in range(1,10):\n",
    "    if i > 5:\n",
    "        for j in range(1, 11-i):\n",
    "            print(j, end=' ')\n",
    "        print()\n",
    "    else:\n",
    "        for j in range(1, i+1):\n",
    "            print(j, end=' ')\n",
    "        print()"
   ]
  },
  {
   "cell_type": "code",
   "execution_count": null,
   "metadata": {},
   "outputs": [],
   "source": []
  },
  {
   "cell_type": "raw",
   "metadata": {},
   "source": [
    "23. Write a Python program to construct the following pattern\n",
    "1\n",
    "22\n",
    "333\n",
    "4444\n",
    "55555\n",
    "666666\n",
    "7777777\n",
    "88888888\n",
    "999999999"
   ]
  },
  {
   "cell_type": "code",
   "execution_count": 30,
   "metadata": {},
   "outputs": [
    {
     "name": "stdout",
     "output_type": "stream",
     "text": [
      "1\n",
      "22\n",
      "333\n",
      "4444\n",
      "55555\n",
      "666666\n",
      "7777777\n",
      "88888888\n",
      "999999999\n"
     ]
    }
   ],
   "source": [
    "for i in range(1,10):\n",
    "    print(i*str(i))"
   ]
  },
  {
   "cell_type": "code",
   "execution_count": null,
   "metadata": {},
   "outputs": [],
   "source": []
  }
 ],
 "metadata": {
  "kernelspec": {
   "display_name": "Python 3",
   "language": "python",
   "name": "python3"
  },
  "language_info": {
   "codemirror_mode": {
    "name": "ipython",
    "version": 3
   },
   "file_extension": ".py",
   "mimetype": "text/x-python",
   "name": "python",
   "nbconvert_exporter": "python",
   "pygments_lexer": "ipython3",
   "version": "3.7.4"
  }
 },
 "nbformat": 4,
 "nbformat_minor": 2
}
